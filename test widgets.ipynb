{
 "cells": [
  {
   "cell_type": "code",
   "execution_count": 1,
   "metadata": {},
   "outputs": [],
   "source": [
    "import numpy as np\n",
    "import matplotlib.pyplot as plt\n",
    "import matplotlib.image as image\n",
    "\n",
    "import colorspacious as cs\n",
    "import ipywidgets as widgets\n",
    "from ipywidgets import interact, interactive, fixed, interact_manual\n"
   ]
  },
  {
   "cell_type": "code",
   "execution_count": 3,
   "metadata": {},
   "outputs": [],
   "source": [
    "image_data = image.imread('albinocrocodile.jpg')\n",
    "\n",
    "def fun_display_image_and_do_something(J_factor_, C_factor_, img_):\n",
    "    \"\"\" \n",
    "    It's happening again.\n",
    "    \"\"\"\n",
    "    img_rgb = img_;\n",
    "    # convert RGB image to jch\n",
    "    img_JCh = cs.cspace_convert(img_rgb, \"sRGB255\", \"JCh\")\n",
    "    img_JCh[:,:,1] *= C_factor_\n",
    "    img_JCh[:,:,0] *= J_factor_\n",
    "    img_rgb = cs.cspace_convert(img_JCh, \"JCh\", \"sRGB1\")\n",
    "\n",
    "    plt.figure(figsize=(10,10))\n",
    "    plt.imshow(img_rgb);\n",
    "    plt.axis('off')\n",
    "    \n",
    "#fun_display_image_and_do_something(0.5, 0.5, image_data)"
   ]
  },
  {
   "cell_type": "markdown",
   "metadata": {},
   "source": [
    "## Interact and sliders\n",
    "\n",
    "A test to investigate how to use widgets stuffs within jupyter running in notebook. Basically it runs."
   ]
  },
  {
   "cell_type": "code",
   "execution_count": 4,
   "metadata": {},
   "outputs": [
    {
     "data": {
      "application/vnd.jupyter.widget-view+json": {
       "model_id": "c173d1f8d1e94cfc8337449790b2bdca",
       "version_major": 2,
       "version_minor": 0
      },
      "text/plain": [
       "aW50ZXJhY3RpdmUoY2hpbGRyZW49KEZsb2F0U2xpZGVyKHZhbHVlPTAuNSwgZGVzY3JpcHRpb249dSdKIGZhY3RvcicsIG1heD0xLjAsIG1pbj0wLjAxLCBzdGVwPTAuMDEpLCBGbG9hdFNsaWTigKY=\n"
      ]
     },
     "metadata": {},
     "output_type": "display_data"
    }
   ],
   "source": [
    "widgets.interact(fun_display_image_and_do_something, \n",
    "         J_factor_ = widgets.FloatSlider(min = 0.01, max=1.0,step=0.01,value=0.5,\n",
    "                                     disabled=False, continuous_update=True,\n",
    "                                     description=\"J factor\"),\n",
    "         C_factor_ = widgets.FloatSlider(min = 0.0, max=1.0,step=0.01,value=0.5,\n",
    "                                     disabled=False, continuous_update=True,\n",
    "                                     description=\"C factor\"),\n",
    "         img_= fixed(image_data));"
   ]
  },
  {
   "cell_type": "code",
   "execution_count": 10,
   "metadata": {},
   "outputs": [
    {
     "data": {
      "application/vnd.jupyter.widget-view+json": {
       "model_id": "c9380b7da0594c7a8df8c0cd036455be",
       "version_major": 2,
       "version_minor": 0
      },
      "text/plain": [
       "Controller()"
      ]
     },
     "metadata": {},
     "output_type": "display_data"
    }
   ],
   "source": [
    "widgets.Controller(\n",
    "    index=0,\n",
    ")"
   ]
  }
 ],
 "metadata": {
  "kernelspec": {
   "display_name": "Python 2",
   "language": "python",
   "name": "python2"
  },
  "language_info": {
   "codemirror_mode": {
    "name": "ipython",
    "version": 2
   },
   "file_extension": ".py",
   "mimetype": "text/x-python",
   "name": "python",
   "nbconvert_exporter": "python",
   "pygments_lexer": "ipython2",
   "version": "2.7.15rc1"
  }
 },
 "nbformat": 4,
 "nbformat_minor": 2
}
